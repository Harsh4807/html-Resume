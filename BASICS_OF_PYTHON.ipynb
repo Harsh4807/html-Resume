{
  "nbformat": 4,
  "nbformat_minor": 0,
  "metadata": {
    "colab": {
      "provenance": [],
      "authorship_tag": "ABX9TyOL9dRuJFoRZa959g6Sb1/J",
      "include_colab_link": true
    },
    "kernelspec": {
      "name": "python3",
      "display_name": "Python 3"
    },
    "language_info": {
      "name": "python"
    }
  },
  "cells": [
    {
      "cell_type": "markdown",
      "metadata": {
        "id": "view-in-github",
        "colab_type": "text"
      },
      "source": [
        "<a href=\"https://colab.research.google.com/github/Harsh4807/html-Resume/blob/main/BASICS_OF_PYTHON.ipynb\" target=\"_parent\"><img src=\"https://colab.research.google.com/assets/colab-badge.svg\" alt=\"Open In Colab\"/></a>"
      ]
    },
    {
      "cell_type": "code",
      "execution_count": null,
      "metadata": {
        "id": "LPbYPXQa1tkV"
      },
      "outputs": [],
      "source": []
    },
    {
      "cell_type": "code",
      "source": [],
      "metadata": {
        "id": "Lu3PHhdIAolx"
      },
      "execution_count": null,
      "outputs": []
    },
    {
      "cell_type": "markdown",
      "source": [
        "1. What is Python, and why is it popular?\n",
        "Ans-> Python is a high-level, interpreted programming language.It is popular because it is having many benifits like (Simple Syntax,Beginner-Friendly,Huge Libraries,Cross-Platform,Strong Community).\n",
        "\n",
        "2. What is an interpreter in Python?\n",
        "Ans->An interpreter is a program that reads and executes code line by line.Like:-\n",
        "*Reads your Python code (.py file).\n",
        "*Converts it to machine-readable instructions.\n",
        "*Executes it one line at a time.\n",
        "\n",
        "3. What are pre-defined keywords in Python.\n",
        "Ans->Pre-defined keywordsare special words in Python and They are part of the Python language syntax and control the flow of programs.Like:->\n",
        "*Have fixed meaning.\n",
        "*Are used by Python itself.\n",
        "*Cannot be used as variable names, function names, or identifiers.\n",
        "\n",
        "4. Can keywords be used as variable names.\n",
        "Ans-> No keywords be used as variable names.\n",
        "\n",
        "5. What is mutability in Python ?\n",
        "Ans-> Objects/Contaniers whose state and value can be changed after they are created called as mutability.\n",
        "\n",
        "6. Why are lists mutable, but tuples are immutable?\n",
        "Ans-> Lists are mutable because Lists are designed to be flexible and They are often used when the size or content of the data needs to change dynamically.\n",
        "\n",
        "Tuples are immutable because Tuples are used when you want fixed, unchangeable data and They are faster and safer when working with constant data.\n",
        "\n",
        "7. What is the difference between “==” and “is” operators in Python.\n",
        "Ans-> Difference between “==” and “is” operators are:-\n",
        "\"==\" is a Comparison operators which Check if values are the same.\n",
        "\"is\" is a Identity Operator which Checks if two variables point to the same object in memory.\n",
        "\n",
        "8. What are logical operators in Python?\n",
        "Ans->Logical operators in Python are used to combine conditional statement.They return Boolean values (True or False) based on the logic between operands.\n",
        "\n",
        "9. What is type casting in Python?\n",
        "Ans-> The process of changing data type of a value or a object.\n",
        "\n",
        "10.  What is the difference between implicit and explicit type casting?\n",
        "Ans-> Implicit Type casting:- Python does it by itself.\n",
        "Happens without you asking.Only done when it's safe and makes sense.\n",
        "\n",
        "Explicit type casting:-You tell Python to change the type.using functions like int(), float(), str().\n",
        "when Python won’t convert it on its own.\n",
        "\n",
        "11. What is the purpose of conditional statements in Python ?\n",
        "Ans->To check if something is true or false.\n",
        "To run different code depending on the situation.\n",
        "To add logic and control flow to your programs.\n",
        "\n",
        "12. How does the elif statement work?\n",
        "Ans->It lets you check multiple conditions, one after another.Python goes top to bottom, and as soon as it finds a condition that is \"True\", it runs that block and skips the rest.\n",
        "\n",
        "13. What is the difference between for and while loops?\n",
        "Ans-> For Loops:-Best when iterating over a sequence (like a list, string, or range).\n",
        "You usually know in advance how many times the loop should run.\n",
        "\n",
        "While Loops:-Best when the loop depends on a condition being true.\n",
        "It runs until the condition becomes false.\n",
        "Use when you don’t know how many times you'll need to loop ahead of time.\n",
        "\n",
        "14. Describe a scenario where a while loop is more suitable than a for loop?\n",
        "Ans-> Scenario:-\n",
        "You're simulating a scientific experiment that continues until a reaction stabilizes (i.e., the temperature change is less than 0.01°C between cycles).\n",
        "In this case:\n",
        "*You don't know how many cycles it will take.\n",
        "*You only stop when the change in temperature is small enough.\n",
        "\n",
        "Why \"while Loop\" is suitable here:\n",
        "*The loop is controlled by a condition (change < 0.    01), not a known number of iterations.\n",
        "*It continues indefinitely until the condition is no longer true.\n",
        "*This is typical in situations like monitoring, waiting, or converging algorithms.\n",
        "\n",
        "In contrast, a \"for loop\" is:\n",
        "*Best when the number of repetitions is known in advance.\n",
        "*Not ideal when you can't predict how many times you'll need to loop.\n",
        "\n",
        "\n",
        "\n",
        "\n",
        "\n",
        "\n",
        "\n",
        "\n",
        "\n",
        "\n",
        "\n"
      ],
      "metadata": {
        "id": "7ckpMEEi1yRE"
      }
    },
    {
      "cell_type": "code",
      "source": [
        "#Write a Python program to print \"Hello, World!\".\n",
        "\n",
        "print(\"Hello, World!\")"
      ],
      "metadata": {
        "colab": {
          "base_uri": "https://localhost:8080/"
        },
        "id": "_awqodUw4GKd",
        "outputId": "26963504-4e7b-4c3a-9aeb-4c40b477c9a6"
      },
      "execution_count": 1,
      "outputs": [
        {
          "output_type": "stream",
          "name": "stdout",
          "text": [
            "Hello, World!\n"
          ]
        }
      ]
    },
    {
      "cell_type": "code",
      "source": [
        "#Write a Python program that displays your name and age.\n",
        "a= \"Harsh\"\n",
        "b= 23\n",
        "print(\"Name=\",a)\n",
        "print(\"Age=\",b)\n"
      ],
      "metadata": {
        "colab": {
          "base_uri": "https://localhost:8080/"
        },
        "id": "qHNf0nY44vG6",
        "outputId": "e4c7edf7-e329-4e4e-c904-62d153b3229a"
      },
      "execution_count": 2,
      "outputs": [
        {
          "output_type": "stream",
          "name": "stdout",
          "text": [
            "Name= Harsh\n",
            "Age= 23\n"
          ]
        }
      ]
    },
    {
      "cell_type": "code",
      "source": [
        "# Write code to print all the pre-defined keywords in Python using the keyword library.\n",
        "import keyword\n",
        "\n",
        "print(\"List of Python keywords:\")\n",
        "print(keyword.kwlist)"
      ],
      "metadata": {
        "colab": {
          "base_uri": "https://localhost:8080/"
        },
        "id": "TnQkrJuv5OHe",
        "outputId": "33126c67-cc41-452b-f9be-b82db80ec324"
      },
      "execution_count": 3,
      "outputs": [
        {
          "output_type": "stream",
          "name": "stdout",
          "text": [
            "List of Python keywords:\n",
            "['False', 'None', 'True', 'and', 'as', 'assert', 'async', 'await', 'break', 'class', 'continue', 'def', 'del', 'elif', 'else', 'except', 'finally', 'for', 'from', 'global', 'if', 'import', 'in', 'is', 'lambda', 'nonlocal', 'not', 'or', 'pass', 'raise', 'return', 'try', 'while', 'with', 'yield']\n"
          ]
        }
      ]
    },
    {
      "cell_type": "markdown",
      "source": [
        "\n",
        "\n",
        "> Add blockquote\n",
        "\n"
      ],
      "metadata": {
        "id": "4uCIDlVo5kmo"
      }
    },
    {
      "cell_type": "code",
      "source": [
        "# Write a program that checks if a given word is a Python keyword.\n",
        "import keyword\n",
        "word= input(\"Enter a word\")\n",
        "if word in keyword.kwlist:\n",
        "  print(word,\"is a keyword\")\n",
        "else:\n",
        "    print(word,\"is not a keyword\")\n"
      ],
      "metadata": {
        "colab": {
          "base_uri": "https://localhost:8080/"
        },
        "id": "aiRng4FW5pXb",
        "outputId": "9ae658e8-ee9a-4d91-ec2b-f06dcfa84237"
      },
      "execution_count": 6,
      "outputs": [
        {
          "output_type": "stream",
          "name": "stdout",
          "text": [
            "Enter a wordasync\n",
            "async is a keyword\n"
          ]
        }
      ]
    },
    {
      "cell_type": "code",
      "source": [
        "#5. Create a list and tuple in Python, and demonstrate how attempting to change an element works differently\n",
        "#for each.\n",
        "my_list = [10, 20, 30]\n",
        "my_tuple = (10, 20, 30)\n",
        "\n",
        "my_list[1] = 99\n",
        "print(\"Modified list:\", my_list)\n",
        "\n",
        "try:\n",
        "    my_tuple[1] = 99\n",
        "except TypeError as e:\n",
        "    print(\"Error when trying to modify tuple:\", e)\n",
        "\n"
      ],
      "metadata": {
        "colab": {
          "base_uri": "https://localhost:8080/"
        },
        "id": "0OOECDS87I2O",
        "outputId": "27b6c619-8790-43e3-a30b-93b19e16bff1"
      },
      "execution_count": 7,
      "outputs": [
        {
          "output_type": "stream",
          "name": "stdout",
          "text": [
            "Modified list: [10, 99, 30]\n",
            "Error when trying to modify tuple: 'tuple' object does not support item assignment\n"
          ]
        }
      ]
    },
    {
      "cell_type": "code",
      "source": [
        "#. Write a function to demonstrate the behavior of mutable and immutable arguments.\n",
        "\n",
        "#-->(Mutable)\n",
        "list_count = [1,5,10,20,500,74]\n",
        "list_count[3]=\"Harsh\"\n",
        "print(list_count[3])\n",
        "\n",
        "#-->Immutable\n",
        "a=\"Harsh\"\n",
        "a[0]=\"I\"\n",
        "print([0])\n"
      ],
      "metadata": {
        "colab": {
          "base_uri": "https://localhost:8080/",
          "height": 211
        },
        "id": "j75Enbes7h1R",
        "outputId": "d8268f62-f481-47d7-f6ee-f0e75a09f425"
      },
      "execution_count": 15,
      "outputs": [
        {
          "output_type": "stream",
          "name": "stdout",
          "text": [
            "Harsh\n"
          ]
        },
        {
          "output_type": "error",
          "ename": "TypeError",
          "evalue": "'str' object does not support item assignment",
          "traceback": [
            "\u001b[0;31m---------------------------------------------------------------------------\u001b[0m",
            "\u001b[0;31mTypeError\u001b[0m                                 Traceback (most recent call last)",
            "\u001b[0;32m<ipython-input-15-299eaf2f9d3d>\u001b[0m in \u001b[0;36m<cell line: 0>\u001b[0;34m()\u001b[0m\n\u001b[1;32m      8\u001b[0m \u001b[0;31m#-->Immutable\u001b[0m\u001b[0;34m\u001b[0m\u001b[0;34m\u001b[0m\u001b[0m\n\u001b[1;32m      9\u001b[0m \u001b[0ma\u001b[0m\u001b[0;34m=\u001b[0m\u001b[0;34m\"Harsh\"\u001b[0m\u001b[0;34m\u001b[0m\u001b[0;34m\u001b[0m\u001b[0m\n\u001b[0;32m---> 10\u001b[0;31m \u001b[0ma\u001b[0m\u001b[0;34m[\u001b[0m\u001b[0;36m0\u001b[0m\u001b[0;34m]\u001b[0m\u001b[0;34m=\u001b[0m\u001b[0;34m\"I\"\u001b[0m\u001b[0;34m\u001b[0m\u001b[0;34m\u001b[0m\u001b[0m\n\u001b[0m\u001b[1;32m     11\u001b[0m \u001b[0mprint\u001b[0m\u001b[0;34m(\u001b[0m\u001b[0;34m[\u001b[0m\u001b[0;36m0\u001b[0m\u001b[0;34m]\u001b[0m\u001b[0;34m)\u001b[0m\u001b[0;34m\u001b[0m\u001b[0;34m\u001b[0m\u001b[0m\n",
            "\u001b[0;31mTypeError\u001b[0m: 'str' object does not support item assignment"
          ]
        }
      ]
    },
    {
      "cell_type": "code",
      "source": [
        "# Write a program that performs basic arithmetic operations on two user-input numbers.\n",
        "a=int(input(\"Enter a No.\"))\n",
        "b=int(input(\"Enter another No.\"))\n",
        "\n",
        "print(\"Your output is\", a+b)"
      ],
      "metadata": {
        "colab": {
          "base_uri": "https://localhost:8080/"
        },
        "id": "7EmQz05194wq",
        "outputId": "5f1e805d-78ba-4efd-ea4d-b900ddc8bb27"
      },
      "execution_count": 17,
      "outputs": [
        {
          "output_type": "stream",
          "name": "stdout",
          "text": [
            "Enter a No.5\n",
            "Enter another No.6\n",
            "Your output is 11\n"
          ]
        }
      ]
    },
    {
      "cell_type": "code",
      "source": [
        "#Write a program to demonstrate the use of logical operators.\n",
        "\n",
        "a= 24\n",
        "b=32\n",
        "c=39\n",
        "if(a>b and a>c):\n",
        "  print(\"a is greater then c and b\")\n",
        "\n",
        "elif(b>a and b>c):\n",
        "    print(\"b is greter than a and c\")\n",
        "\n",
        "elif(c>a and c>b):\n",
        "  print(\"c is grater than a and c\")\n",
        "\n",
        "else:\n",
        "  print(\"No one is the greatest\")\n"
      ],
      "metadata": {
        "colab": {
          "base_uri": "https://localhost:8080/"
        },
        "id": "xQAMwKhR-sMi",
        "outputId": "f7c87860-a71a-45af-8fa2-f5e8eb620f5f"
      },
      "execution_count": 19,
      "outputs": [
        {
          "output_type": "stream",
          "name": "stdout",
          "text": [
            "c is grater than a and c\n"
          ]
        }
      ]
    },
    {
      "cell_type": "code",
      "source": [
        "#Write a Python program to convert user input from string to integer, float, and boolean types.\n",
        "\n",
        "c= \"23\"\n",
        "d= int(c)\n",
        "type(d)\n",
        "\n",
        "a=\"2.55\"\n",
        "b= float(a)\n",
        "type(b)\n",
        "\n",
        "e=\"Harsh\"\n",
        "f= bool(e)\n",
        "type(f)"
      ],
      "metadata": {
        "colab": {
          "base_uri": "https://localhost:8080/"
        },
        "id": "ZMPKzRSZ4wHG",
        "outputId": "8ceb30e5-ac37-47c3-e61d-bcde1d1e6f25"
      },
      "execution_count": 13,
      "outputs": [
        {
          "output_type": "execute_result",
          "data": {
            "text/plain": [
              "bool"
            ]
          },
          "metadata": {},
          "execution_count": 13
        }
      ]
    },
    {
      "cell_type": "code",
      "source": [
        "# Write code to demonstrate type casting with list elements.\n",
        "\n",
        "list_count= [45,54,26,62,78,87]\n",
        "list_count[3]= bool(list_count[3])\n",
        "list_count[3]"
      ],
      "metadata": {
        "colab": {
          "base_uri": "https://localhost:8080/"
        },
        "id": "ofvpBSB47eSR",
        "outputId": "50040e7f-8613-4b6c-e82a-ac4c1520f455"
      },
      "execution_count": 14,
      "outputs": [
        {
          "output_type": "execute_result",
          "data": {
            "text/plain": [
              "True"
            ]
          },
          "metadata": {},
          "execution_count": 14
        }
      ]
    },
    {
      "cell_type": "code",
      "source": [
        "# Write a program that checks if a number is positive, negative, or zero.\n",
        "\n",
        "a=int(input(\"Write a no. to check:\"))\n",
        "if a>0:\n",
        "  print(\"Its an positive No.\")\n",
        "\n",
        "elif(a<0):\n",
        "  print(\"Its and negative no..\")\n",
        "\n",
        "else:\n",
        "  print(\"Its an Zero.\")"
      ],
      "metadata": {
        "colab": {
          "base_uri": "https://localhost:8080/"
        },
        "id": "prh6Q_RE8xlk",
        "outputId": "7e6a3192-aba5-4e9d-8c9f-4b683f8e47e9"
      },
      "execution_count": 24,
      "outputs": [
        {
          "output_type": "stream",
          "name": "stdout",
          "text": [
            "Write a no. to check:-5\n",
            "Its and integer.\n"
          ]
        }
      ]
    },
    {
      "cell_type": "code",
      "source": [
        "# Write a for loop to print numbers from 1 to 10.\n",
        "\n",
        "for i in range(1, 11):\n",
        "    print(i)"
      ],
      "metadata": {
        "colab": {
          "base_uri": "https://localhost:8080/"
        },
        "id": "tav7hJVF-HQa",
        "outputId": "5cc73b79-3d97-484b-cdba-f5b2470a813d"
      },
      "execution_count": 25,
      "outputs": [
        {
          "output_type": "stream",
          "name": "stdout",
          "text": [
            "1\n",
            "2\n",
            "3\n",
            "4\n",
            "5\n",
            "6\n",
            "7\n",
            "8\n",
            "9\n",
            "10\n"
          ]
        }
      ]
    },
    {
      "cell_type": "code",
      "source": [
        "# Write a Python program to find the sum of all even numbers between 1 and 50.\n",
        "\n",
        "total = 0\n",
        "\n",
        "for i in range(1, 51):\n",
        "    if i % 2 == 0:\n",
        "        total += i\n",
        "\n",
        "print(\"Sum of all even numbers from 1 to 50 is:\", total)"
      ],
      "metadata": {
        "colab": {
          "base_uri": "https://localhost:8080/"
        },
        "id": "WnlTij-A-UrG",
        "outputId": "b0360883-c0c4-4add-8051-89af0051af78"
      },
      "execution_count": 26,
      "outputs": [
        {
          "output_type": "stream",
          "name": "stdout",
          "text": [
            "Sum of all even numbers from 1 to 50 is: 650\n"
          ]
        }
      ]
    },
    {
      "cell_type": "code",
      "source": [
        "#  Write a program to reverse a string using a while loop.\n",
        "\n",
        "text = input(\"Enter a string: \")\n",
        "reversed_text = \"\"\n",
        "i = len(text) - 1\n",
        "\n",
        "while i >= 0:\n",
        "    reversed_text = reversed_text + text[i]\n",
        "    i = i - 1\n",
        "\n",
        "print(\"Reversed string:\", reversed_text)"
      ],
      "metadata": {
        "colab": {
          "base_uri": "https://localhost:8080/"
        },
        "id": "pI9UG05T-3WJ",
        "outputId": "14a9cb99-20f9-41f1-d616-685277b752f9"
      },
      "execution_count": 27,
      "outputs": [
        {
          "output_type": "stream",
          "name": "stdout",
          "text": [
            "Enter a string: Harsh\n",
            "Reversed string: hsraH\n"
          ]
        }
      ]
    },
    {
      "cell_type": "code",
      "source": [
        "# Write a Python program to calculate the factorial of a number provided by the user using a while loop.\n",
        "\n",
        "num = int(input(\"Enter a number: \"))\n",
        "factorial = 1\n",
        "i = 1\n",
        "\n",
        "while i <= num:\n",
        "    factorial *= i\n",
        "    i += 1\n",
        "\n",
        "print(\"Factorial of\", num, \"is\", factorial)"
      ],
      "metadata": {
        "colab": {
          "base_uri": "https://localhost:8080/"
        },
        "id": "1SUVRRwH_h-c",
        "outputId": "c1e0949c-05f6-4cbf-e64e-2b62d94b770e"
      },
      "execution_count": 29,
      "outputs": [
        {
          "output_type": "stream",
          "name": "stdout",
          "text": [
            "Enter a number: 6\n",
            "Factorial of 6 is 720\n"
          ]
        }
      ]
    }
  ]
}